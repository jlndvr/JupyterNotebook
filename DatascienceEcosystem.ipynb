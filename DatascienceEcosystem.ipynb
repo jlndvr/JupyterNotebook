{
 "cells": [
  {
   "cell_type": "markdown",
   "id": "20fd6cc6-b6dc-45a0-9737-372f8e877f7e",
   "metadata": {},
   "source": [
    "<h1>Data Science Tools and Ecosystem</h1>"
   ]
  },
  {
   "cell_type": "markdown",
   "id": "2ba1c5c6-f18a-4de4-a5b2-5fcee591c519",
   "metadata": {},
   "source": [
    "<h3>In this notebook, Data Science Tools and Ecosystem are explained in a basic context.</h3>"
   ]
  },
  {
   "cell_type": "markdown",
   "id": "35b74381-4cd8-4101-9ef7-1a685a6de798",
   "metadata": {},
   "source": [
    "<h4>Some of the popular languages that Data Scientists use are:</h4>\n",
    "1. Python\n",
    "2. R\n",
    "3. SQL\n",
    "4. Julia"
   ]
  },
  {
   "cell_type": "markdown",
   "id": "54bb5244-0257-4365-ba4d-dca4db0993b7",
   "metadata": {},
   "source": [
    "<h4>Some of the commonly used libraries used by Data Scientists include:</h4>\n",
    "1. Pandas 2. NumPy 3. Matplotlib"
   ]
  },
  {
   "cell_type": "markdown",
   "id": "e8def253-c31d-4ec3-911c-ebf06ae04584",
   "metadata": {},
   "source": [
    "<h4>Below are a few examples of evaluating arithmetic expressions in Python.</h4>"
   ]
  },
  {
   "cell_type": "code",
   "execution_count": 22,
   "id": "31e8053c-7440-4ae6-8494-a9dc6309d7fb",
   "metadata": {},
   "outputs": [
    {
     "data": {
      "text/plain": [
       "2.0"
      ]
     },
     "execution_count": 22,
     "metadata": {},
     "output_type": "execute_result"
    }
   ],
   "source": [
    "10/5"
   ]
  },
  {
   "cell_type": "code",
   "execution_count": 25,
   "id": "ade763d3-7d88-499c-9cfb-2a6b1f490c1b",
   "metadata": {},
   "outputs": [
    {
     "data": {
      "text/plain": [
       "4"
      ]
     },
     "execution_count": 25,
     "metadata": {},
     "output_type": "execute_result"
    }
   ],
   "source": [
    "2+2"
   ]
  },
  {
   "cell_type": "code",
   "execution_count": 27,
   "id": "89d6a8e9-bafe-49e2-94af-691baa9e0e5a",
   "metadata": {},
   "outputs": [
    {
     "data": {
      "text/plain": [
       "12"
      ]
     },
     "execution_count": 27,
     "metadata": {},
     "output_type": "execute_result"
    }
   ],
   "source": [
    "4+8"
   ]
  },
  {
   "cell_type": "code",
   "execution_count": 29,
   "id": "96651135-0e49-4546-9ff1-26246d474419",
   "metadata": {},
   "outputs": [
    {
     "data": {
      "text/plain": [
       "17"
      ]
     },
     "execution_count": 29,
     "metadata": {},
     "output_type": "execute_result"
    }
   ],
   "source": [
    "(3*4)+5"
   ]
  },
  {
   "cell_type": "markdown",
   "id": "0f4f7c0f-c17f-4a3b-8864-010a657fdbc1",
   "metadata": {},
   "source": [
    "<h4>Convert the following 200 minutes into hours:</h4>"
   ]
  },
  {
   "cell_type": "code",
   "execution_count": 32,
   "id": "757b2341-c04a-46e4-9ddb-1d271e944894",
   "metadata": {},
   "outputs": [
    {
     "data": {
      "text/plain": [
       "3.3333333333333335"
      ]
     },
     "execution_count": 32,
     "metadata": {},
     "output_type": "execute_result"
    }
   ],
   "source": [
    "200/60"
   ]
  },
  {
   "cell_type": "markdown",
   "id": "5da19090-244f-4572-b68b-56eec94b9853",
   "metadata": {},
   "source": [
    "<h4><b>Objectives:</b></h4>"
   ]
  },
  {
   "cell_type": "markdown",
   "id": "158dfb64-f167-464b-a2ca-41d36e4403d7",
   "metadata": {},
   "source": [
    "- Python\n",
    "- R\n",
    "- Julia"
   ]
  },
  {
   "cell_type": "markdown",
   "id": "7b439feb-fec3-4f7b-936d-8ba69ce82665",
   "metadata": {},
   "source": [
    "<h2>Author:</h2>\n",
    "Josue Landaverde"
   ]
  },
  {
   "cell_type": "code",
   "execution_count": null,
   "id": "17c67003-41fe-4d1a-9e10-e8187746414b",
   "metadata": {},
   "outputs": [],
   "source": []
  }
 ],
 "metadata": {
  "kernelspec": {
   "display_name": "Python [conda env:base] *",
   "language": "python",
   "name": "conda-base-py"
  },
  "language_info": {
   "codemirror_mode": {
    "name": "ipython",
    "version": 3
   },
   "file_extension": ".py",
   "mimetype": "text/x-python",
   "name": "python",
   "nbconvert_exporter": "python",
   "pygments_lexer": "ipython3",
   "version": "3.12.7"
  }
 },
 "nbformat": 4,
 "nbformat_minor": 5
}
